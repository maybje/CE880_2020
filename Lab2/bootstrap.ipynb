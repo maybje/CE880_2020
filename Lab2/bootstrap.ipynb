{
  "nbformat": 4,
  "nbformat_minor": 0,
  "metadata": {
    "kernelspec": {
      "display_name": "Python 3",
      "language": "python",
      "name": "python3"
    },
    "language_info": {
      "codemirror_mode": {
        "name": "ipython",
        "version": 2
      },
      "file_extension": ".py",
      "mimetype": "text/x-python",
      "name": "python",
      "nbconvert_exporter": "python",
      "pygments_lexer": "ipython2",
      "version": "2.7.6"
    },
    "pycharm": {
      "stem_cell": {
        "cell_type": "raw",
        "source": [],
        "metadata": {
          "collapsed": false
        }
      }
    },
    "colab": {
      "name": "bootstrap.ipynb",
      "provenance": [],
      "collapsed_sections": [],
      "include_colab_link": true
    }
  },
  "cells": [
    {
      "cell_type": "markdown",
      "metadata": {
        "id": "view-in-github",
        "colab_type": "text"
      },
      "source": [
        "<a href=\"https://colab.research.google.com/github/maybje/CE888/blob/master/Lab2/bootstrap.ipynb\" target=\"_parent\"><img src=\"https://colab.research.google.com/assets/colab-badge.svg\" alt=\"Open In Colab\"/></a>"
      ]
    },
    {
      "cell_type": "markdown",
      "metadata": {
        "id": "nCi_99yMYIb1",
        "colab_type": "text"
      },
      "source": [
        "In this notebook you'll create your own bootstrap function following the bootstrap algorithm (check the lecture notes!)"
      ]
    },
    {
      "cell_type": "code",
      "metadata": {
        "pycharm": {
          "name": "#%%# Imports\n"
        },
        "id": "LY5zujI2YC37",
        "colab_type": "code",
        "colab": {}
      },
      "source": [
        "import matplotlib\n",
        "import pandas as pd\n",
        "import seaborn as sns\n",
        "import numpy as np\n",
        "import matplotlib.pyplot as plt\n",
        "\n"
      ],
      "execution_count": 0,
      "outputs": []
    },
    {
      "cell_type": "code",
      "metadata": {
        "id": "Eqkwj4SMY38t",
        "colab_type": "code",
        "colab": {}
      },
      "source": [
        "# Load the data\n",
        "df = pd.read_csv('https://raw.githubusercontent.com/maybje/CE888/master/Lab2/customers.csv')\n",
        "data = df.values.T[1]\n",
        "\n"
      ],
      "execution_count": 0,
      "outputs": []
    },
    {
      "cell_type": "code",
      "metadata": {
        "pycharm": {
          "name": "#%%\n"
        },
        "id": "Gxvc_bScYC4H",
        "colab_type": "code",
        "colab": {}
      },
      "source": [
        "# Checking the notes from the lecture, create here your own bootstrap function:\n",
        "# 1. Create an array of samples of shape (n_iterations, sample_size)\n",
        "# 2. Calculate and save the mean of the array (this is \"data_mean\" that is returned by the function)\n",
        "# 3. In each iteration:\n",
        "# 3.1 Get the data corresponding to that iteration (new_samples[iteration, :])\n",
        "# 3.2 Calculate the mean of the iteration data and store it\n",
        "# (At this point you should have an array of n_iterations values)\n",
        "# 4. Calculate the lower and upper bounds for a 95% CI (hint: check the percentile function on Numpy)\n",
        "# 5. Return data_mean, and the lower and upper bounds of your interval\n",
        "def boostrap_mean(sample, sample_size, n_iterations):\n",
        "\tbootstrap_samples=np.random.choice(sample, size=(n_iterations,sample_size), replace=True)\n",
        "\tmean_array=np.mean(bootstrap_samples, axis=1)\n",
        "\tdata_mean=np.mean(mean_array)\n",
        "\tlower=np.percentile(mean_array,5)\n",
        "\tupper=np.percentile(mean_array,95)\n",
        "\treturn data_mean, lower, upper\n"
      ],
      "execution_count": 0,
      "outputs": []
    },
    {
      "cell_type": "code",
      "metadata": {
        "pycharm": {
          "name": "#%%\n"
        },
        "id": "AN7sEOcMYC4P",
        "colab_type": "code",
        "outputId": "9d9678b2-e8b0-4333-a313-a299d414a3d6",
        "colab": {
          "base_uri": "https://localhost:8080/",
          "height": 386
        }
      },
      "source": [
        "# Call your bootstrap function and plot the results\n",
        "\n",
        "boots = []\n",
        "for i in range(100, 100000, 1000):\n",
        "    boot = boostrap_mean(data, data.shape[0], i)\n",
        "    boots.append([i, boot[0], \"mean\"])\n",
        "    boots.append([i, boot[1], \"lower\"])\n",
        "    boots.append([i, boot[2], \"upper\"])\n",
        "\n",
        "df_boot = pd.DataFrame(boots, columns=['Boostrap Iterations', 'Mean', \"Value\"])\n",
        "sns_plot = sns.lmplot(df_boot.columns[0], df_boot.columns[1], data=df_boot, fit_reg=False, hue=\"Value\")\n",
        "\n",
        "sns_plot.axes[0, 0].set_ylim(0,)\n",
        "sns_plot.axes[0, 0].set_xlim(0, 100000)\n",
        "\n",
        "#sns_plot.savefig(\"bootstrap_confidence.png\", bbox_inches='tight')\n",
        "#sns_plot.savefig(\"bootstrap_confidence.pdf\", bbox_inches='tight')\n",
        "\n"
      ],
      "execution_count": 0,
      "outputs": [
        {
          "output_type": "execute_result",
          "data": {
            "text/plain": [
              "(0, 100000)"
            ]
          },
          "metadata": {
            "tags": []
          },
          "execution_count": 5
        },
        {
          "output_type": "display_data",
          "data": {
            "image/png": "[encoded data removed]",
            "text/plain": [
              "<Figure size 425.125x360 with 1 Axes>"
            ]
          },
          "metadata": {
            "tags": []
          }
        }
      ]
    },
    {
      "cell_type": "markdown",
      "metadata": {
        "collapsed": false,
        "id": "MjtP4e2_YC4V",
        "colab_type": "text"
      },
      "source": [
        "\n",
        "Now, modify the bootstrap function so that you can pass your desired confidence interval as a parameter.\n",
        "\n"
      ]
    },
    {
      "cell_type": "code",
      "metadata": {
        "colab_type": "code",
        "id": "-t8wrZRS_5Ww",
        "colab": {}
      },
      "source": [
        "def boostrap_mean_ci(sample, sample_size, iterations, ci):\n",
        "\tbootstrap_samples=np.random.choice(sample, (iterations,sample_size), replace=True)\n",
        "\tmean_array=np.mean(bootstrap_samples, axis=1)\n",
        "\tdata_mean=np.mean(mean_array)\n",
        "\tlower=np.percentile(mean_array,(100-ci)/2)\n",
        "\tupper=np.percentile(mean_array,100-((100-ci)/2))\n",
        "\treturn data_mean, lower, upper"
      ],
      "execution_count": 0,
      "outputs": []
    },
    {
      "cell_type": "code",
      "metadata": {
        "id": "uDnjq08GYl-C",
        "colab_type": "code",
        "outputId": "03dbbbb1-2ce7-4e40-a11f-6f6858201b78",
        "colab": {
          "base_uri": "https://localhost:8080/",
          "height": 369
        }
      },
      "source": [
        "\n",
        "boots = []\n",
        "for i in range(100, 100000, 1000):\n",
        "    boot = boostrap_mean_ci(data, data.shape[0], i, 80)\n",
        "    boots.append([i, boot[0], \"mean\"])\n",
        "    boots.append([i, boot[1], \"lower\"])\n",
        "    boots.append([i, boot[2], \"upper\"])\n",
        "\n",
        "df_boot = pd.DataFrame(boots, columns=['Boostrap Iterations', 'Mean', \"Value\"])\n",
        "sns_plot = sns.lmplot(df_boot.columns[0], df_boot.columns[1], data=df_boot, fit_reg=False, hue=\"Value\")\n",
        "\n",
        "sns_plot.axes[0, 0].set_ylim(0,)\n",
        "sns_plot.axes[0, 0].set_xlim(0, 100000)\n",
        "\n",
        "sns_plot.savefig(\"bootstrap_confidence_80.png\", bbox_inches='tight')\n",
        "sns_plot.savefig(\"bootstrap_confidence_80.pdf\", bbox_inches='tight')\n"
      ],
      "execution_count": 0,
      "outputs": [
        {
          "output_type": "display_data",
          "data": {
            "image/png": "[encoded data removed]",
            "text/plain": [
              "<Figure size 425.125x360 with 1 Axes>"
            ]
          },
          "metadata": {
            "tags": []
          }
        }
      ]
    },
    {
      "cell_type": "markdown",
      "metadata": {
        "id": "qjNgXW6wdd7r",
        "colab_type": "text"
      },
      "source": [
        "# Vehicles dataset\n",
        "\n",
        "Now let's work on a different dataset. Load the vehicles.csv file and check the Moodle page for instructions on how to proceed\n"
      ]
    },
    {
      "cell_type": "code",
      "metadata": {
        "id": "avWv4ipFdpka",
        "colab_type": "code",
        "colab": {}
      },
      "source": [
        "# Load and visualise the vehicles dataset\n",
        "# Load the data\n",
        "df = pd.read_csv('https://raw.githubusercontent.com/maybje/CE888/master/Lab2/vehicles.csv')\n",
        "data = df[df.columns[:]]\n",
        "\n",
        "# Note: you can add more cells as needed to organise your code and your plots\n"
      ],
      "execution_count": 0,
      "outputs": []
    },
    {
      "cell_type": "code",
      "metadata": {
        "id": "bYPCG_QiD9lI",
        "colab_type": "code",
        "outputId": "53250840-8a64-47ff-8039-2e6ff796da04",
        "colab": {
          "base_uri": "https://localhost:8080/",
          "height": 297
        }
      },
      "source": [
        "current=data[data.columns[0]]\n",
        "new=data[data.columns[1]]\n",
        "new=new[~np.isnan(new)]\n",
        "\n",
        "df['index1'] = df.index\n",
        "\n",
        "fig, ax =plt.subplots(1,2)\n",
        "sns.scatterplot(df.columns[2], df.columns[0], data=df, ax=ax[0])\n",
        "sns.scatterplot(df.columns[2], df.columns[1], data=df,  ax=ax[1])\n",
        "fig.tight_layout() # Or equivalently,  \"plt.tight_layout()\"\n",
        "plt.show()"
      ],
      "execution_count": 0,
      "outputs": [
        {
          "output_type": "display_data",
          "data": {
            "image/png": "[encoded data removed]",
            "text/plain": [
              "<Figure size 432x288 with 2 Axes>"
            ]
          },
          "metadata": {
            "tags": []
          }
        }
      ]
    },
    {
      "cell_type": "code",
      "metadata": {
        "id": "pHZBypQ_FuSB",
        "colab_type": "code",
        "outputId": "a4ca8857-a6c0-4272-c4a8-4b9f74835e5f",
        "colab": {
          "base_uri": "https://localhost:8080/",
          "height": 297
        }
      },
      "source": [
        "fig, ax =plt.subplots(1,2)\n",
        "sns.distplot(current, bins=20, kde=False, rug=True,ax=ax[0])\n",
        "sns.distplot(new, bins=20, kde=False, rug=True, ax=ax[1])\n",
        "fig.tight_layout() # Or equivalently,  \"plt.tight_layout()\"\n",
        "plt.show()\n"
      ],
      "execution_count": 0,
      "outputs": [
        {
          "output_type": "display_data",
          "data": {
            "image/png": "[encoded data removed]",
            "text/plain": [
              "<Figure size 432x288 with 2 Axes>"
            ]
          },
          "metadata": {
            "tags": []
          }
        }
      ]
    },
    {
      "cell_type": "code",
      "metadata": {
        "id": "BAKyj983dwSM",
        "colab_type": "code",
        "colab": {}
      },
      "source": [
        "# Compare the two fleets.\n",
        "# You can create a permutation test function to do this. Check the lecture notes!"
      ],
      "execution_count": 0,
      "outputs": []
    },
    {
      "cell_type": "code",
      "metadata": {
        "id": "if-RY4aTd4CZ",
        "colab_type": "code",
        "outputId": "e1aeff58-9c3d-4ca2-8331-f2155db89ee1",
        "colab": {
          "base_uri": "https://localhost:8080/",
          "height": 68
        }
      },
      "source": [
        "current_mean , current_lower, current_upper= boostrap_mean_ci(current, current.shape[0], 1000, 90)\n",
        "print(\"Current mean: \", current_mean)\n",
        "print(\"Current lower: \", current_lower)\n",
        "print(\"Current upper: \", current_upper)\n"
      ],
      "execution_count": 0,
      "outputs": [
        {
          "output_type": "stream",
          "text": [
            "Current mean:  20.155594377510038\n",
            "Current lower:  19.48995983935743\n",
            "Current upper:  20.851606425702812\n"
          ],
          "name": "stdout"
        }
      ]
    },
    {
      "cell_type": "code",
      "metadata": {
        "id": "zYkTah7Pc69P",
        "colab_type": "code",
        "outputId": "5b96a4a0-ccd3-42e7-ec46-d933cb725d6d",
        "colab": {
          "base_uri": "https://localhost:8080/",
          "height": 68
        }
      },
      "source": [
        "new_mean, new_lower, new_upper = boostrap_mean_ci(new, new.shape[0], 1000, 90)\n",
        "print(\"New mean: \", new_mean)\n",
        "print(\"New lower: \", new_lower)\n",
        "print(\"New upper: \", new_upper)"
      ],
      "execution_count": 0,
      "outputs": [
        {
          "output_type": "stream",
          "text": [
            "New mean:  30.488189873417724\n",
            "New lower:  29.404430379746834\n",
            "New upper:  31.582278481012658\n"
          ],
          "name": "stdout"
        }
      ]
    },
    {
      "cell_type": "code",
      "metadata": {
        "id": "sxWJm8GAN4ZL",
        "colab_type": "code",
        "outputId": "9e684899-13d9-42ba-d55e-4361185d0b94",
        "colab": {
          "base_uri": "https://localhost:8080/",
          "height": 34
        }
      },
      "source": [
        "t_obs=new_mean-current_mean\n",
        "print(\"Difference in Mean: \", t_obs)"
      ],
      "execution_count": 0,
      "outputs": [
        {
          "output_type": "stream",
          "text": [
            "Difference in Mean:  10.37809562299832\n"
          ],
          "name": "stdout"
        }
      ]
    },
    {
      "cell_type": "code",
      "metadata": {
        "id": "mDdHmpgEOQ71",
        "colab_type": "code",
        "colab": {}
      },
      "source": [
        "#defining permutation function\n",
        "def permutation_test(array1, array2, n_iterations):\n",
        "  results=[]\n",
        "  current_mean=np.mean(array1)\n",
        "  new_mean=np.mean(array2)\n",
        "  t_obs=new_mean-current_mean\n",
        "  concat = np.concatenate((array1, array2))\n",
        "  for i in range(n_iterations):    \n",
        "    perm = np.random.permutation(concat)\n",
        "    pcurrent= perm[:len(array1)]\n",
        "    pnew= perm[len(array1):]\n",
        "    t_perm=np.mean(pnew)-np.mean(pcurrent)\n",
        "    if t_perm>t_obs:\n",
        "      results.append(1)\n",
        "    else:\n",
        "      results.append(0)\n",
        "  p_value=np.sum(results)/n_iterations\n",
        "  return(p_value)\n",
        "\n"
      ],
      "execution_count": 0,
      "outputs": []
    },
    {
      "cell_type": "markdown",
      "metadata": {
        "id": "T_llhI_TaiKu",
        "colab_type": "text"
      },
      "source": [
        "Example of lecture 2"
      ]
    },
    {
      "cell_type": "code",
      "metadata": {
        "id": "ceQzFR4IUBH0",
        "colab_type": "code",
        "outputId": "b05a2cf1-cf28-4056-f7cb-7c4dfefcf053",
        "colab": {
          "base_uri": "https://localhost:8080/",
          "height": 34
        }
      },
      "source": [
        "old = np.array([0, 0, 0, 0, 0, 0, 1, 0, 0, 1, 0])\n",
        "new2 = np.array([1, 0, 0, 1, 1, 1, 0, 0, 0, 1, 0])\n",
        "permutation_test(old,new2,20000)"
      ],
      "execution_count": 0,
      "outputs": [
        {
          "output_type": "execute_result",
          "data": {
            "text/plain": [
              "0.03185"
            ]
          },
          "metadata": {
            "tags": []
          },
          "execution_count": 225
        }
      ]
    },
    {
      "cell_type": "markdown",
      "metadata": {
        "id": "8ksao8nzamal",
        "colab_type": "text"
      },
      "source": [
        "Permutation Test\n",
        "\n",
        "The p-value is <0.05, therefore we can say the difference in means is satistically significant and the new fleet is better than the older one.\n"
      ]
    },
    {
      "cell_type": "code",
      "metadata": {
        "id": "qlNtn6CsWZp_",
        "colab_type": "code",
        "outputId": "ed017ab8-ac9c-4fbf-9808-13efb53cefb2",
        "colab": {
          "base_uri": "https://localhost:8080/",
          "height": 34
        }
      },
      "source": [
        "permutation_test(current,new,1000)"
      ],
      "execution_count": 0,
      "outputs": [
        {
          "output_type": "execute_result",
          "data": {
            "text/plain": [
              "0.0"
            ]
          },
          "metadata": {
            "tags": []
          },
          "execution_count": 203
        }
      ]
    }
  ]
}