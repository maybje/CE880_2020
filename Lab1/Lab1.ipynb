{
  "nbformat": 4,
  "nbformat_minor": 0,
  "metadata": {
    "colab": {
      "name": "Lab1.ipynb",
      "provenance": [],
      "collapsed_sections": [],
      "authorship_tag": "ABX9TyPzIuAn0b0XUudJvKlPh/8F",
      "include_colab_link": true
    },
    "kernelspec": {
      "name": "python3",
      "display_name": "Python 3"
    }
  },
  "cells": [
    {
      "cell_type": "markdown",
      "metadata": {
        "id": "view-in-github",
        "colab_type": "text"
      },
      "source": [
        "<a href=\"https://colab.research.google.com/github/maybje/CE888_2020/blob/master/Lab1/Lab1.ipynb\" target=\"_parent\"><img src=\"https://colab.research.google.com/assets/colab-badge.svg\" alt=\"Open In Colab\"/></a>"
      ]
    },
    {
      "cell_type": "markdown",
      "metadata": {
        "id": "bIfje0Wm1HzM",
        "colab_type": "text"
      },
      "source": [
        "#CE888 - Lab 1\n",
        "\n",
        "Laboratory 1 for Data Science and Decision Making\n"
      ]
    },
    {
      "cell_type": "markdown",
      "metadata": {
        "id": "GZKWXngU6tmu",
        "colab_type": "text"
      },
      "source": [
        "1. Create a (4 x 2) integer array and print it's attributes"
      ]
    },
    {
      "cell_type": "code",
      "metadata": {
        "id": "NEMKOlSi1DXP",
        "colab_type": "code",
        "colab": {}
      },
      "source": [
        "import numpy as np"
      ],
      "execution_count": 0,
      "outputs": []
    },
    {
      "cell_type": "code",
      "metadata": {
        "id": "rdTkqB9Q62a0",
        "colab_type": "code",
        "colab": {
          "base_uri": "https://localhost:8080/",
          "height": 136
        },
        "outputId": "469b04cc-4061-41cc-9368-1b0b3b293994"
      },
      "source": [
        "a=np.array([[1,2],[3,4],[5,6],[7,8]])\n",
        "print(a)\n",
        "print(\"Shape of a: \", a.shape)\n",
        "print(\"Number of dimensions: \", a.ndim)\n",
        "print(\"Size of a: \", a.size)"
      ],
      "execution_count": 4,
      "outputs": [
        {
          "output_type": "stream",
          "text": [
            "[[1 2]\n",
            " [3 4]\n",
            " [5 6]\n",
            " [7 8]]\n",
            "Shape of a:  (4, 2)\n",
            "Number of dimensions:  2\n",
            "Size of a:  8\n"
          ],
          "name": "stdout"
        }
      ]
    },
    {
      "cell_type": "markdown",
      "metadata": {
        "id": "uMmih34V7c3P",
        "colab_type": "text"
      },
      "source": [
        "2. Create an array of dimension (1,10) and sort it in ascending and descending order"
      ]
    },
    {
      "cell_type": "code",
      "metadata": {
        "id": "kApEMAbg7fiO",
        "colab_type": "code",
        "colab": {
          "base_uri": "https://localhost:8080/",
          "height": 68
        },
        "outputId": "7392ca5d-23da-4bc4-ec5a-598d05cdf6d4"
      },
      "source": [
        "b=np.random.randint(1,100,10)\n",
        "print(b)\n",
        "\n",
        "print(\"This is b in ascending order: \", np.sort(b))\n",
        "print(\"This is b in descending order: \", -np.sort(-b))\n",
        "\n"
      ],
      "execution_count": 21,
      "outputs": [
        {
          "output_type": "stream",
          "text": [
            "[23 95 25 91 83 39 87 73 37 55]\n",
            "This is b in ascending order:  [23 25 37 39 55 73 83 87 91 95]\n",
            "This is b in descending order:  [95 91 87 83 73 55 39 37 25 23]\n"
          ],
          "name": "stdout"
        }
      ]
    },
    {
      "cell_type": "markdown",
      "metadata": {
        "id": "9FfdDrew-PaS",
        "colab_type": "text"
      },
      "source": [
        "3. Convert an 1D array [1 2 3 4 5 6 7 8 9] to 2D array [[1 2 3], [4 5 6], [7 8 9]]"
      ]
    },
    {
      "cell_type": "code",
      "metadata": {
        "id": "a7wa3m1_-Qrw",
        "colab_type": "code",
        "colab": {
          "base_uri": "https://localhost:8080/",
          "height": 85
        },
        "outputId": "2b6e298b-5e15-4154-ed4a-5a64bde7204a"
      },
      "source": [
        "c=np.array([1, 2 ,3 ,4 ,5, 6, 7, 8, 9])\n",
        "\n",
        "print(\"2D array: \", \"\\n\", c.reshape(3,3))"
      ],
      "execution_count": 33,
      "outputs": [
        {
          "output_type": "stream",
          "text": [
            "2D array:  \n",
            " [[1 2 3]\n",
            " [4 5 6]\n",
            " [7 8 9]]\n"
          ],
          "name": "stdout"
        }
      ]
    },
    {
      "cell_type": "markdown",
      "metadata": {
        "id": "_hSBfIxf_HYR",
        "colab_type": "text"
      },
      "source": [
        "4. Stack two arrays of any size horizontally and vertically"
      ]
    },
    {
      "cell_type": "code",
      "metadata": {
        "id": "Wkbs5AX3_IYf",
        "colab_type": "code",
        "colab": {
          "base_uri": "https://localhost:8080/",
          "height": 153
        },
        "outputId": "c88209b7-6a02-47ef-98f3-3fcb06db938b"
      },
      "source": [
        "a=np.array([[1,2],[3,4]])\n",
        "b=np.array([[5,6],[7,8]])\n",
        "\n",
        "c=np.concatenate((a,b),axis=1)\n",
        "print(\"Horizontal: \", \"\\n\", np.hstack((a,b)))\n",
        "print(\"Vertical: \", \"\\n\",  np.vstack((a,b)))"
      ],
      "execution_count": 99,
      "outputs": [
        {
          "output_type": "stream",
          "text": [
            "Horizontal:  \n",
            " [[1 2 5 6]\n",
            " [3 4 7 8]]\n",
            "Vertical:  \n",
            " [[1 2]\n",
            " [3 4]\n",
            " [5 6]\n",
            " [7 8]]\n"
          ],
          "name": "stdout"
        }
      ]
    },
    {
      "cell_type": "markdown",
      "metadata": {
        "id": "6qndH6-iB0PB",
        "colab_type": "text"
      },
      "source": [
        "5.Create two array of same size and find commom elements"
      ]
    },
    {
      "cell_type": "code",
      "metadata": {
        "id": "CafIzurWB5jS",
        "colab_type": "code",
        "colab": {
          "base_uri": "https://localhost:8080/",
          "height": 51
        },
        "outputId": "86b5db5f-9748-4dee-dce4-e2525dcc90e9"
      },
      "source": [
        "a=np.array([[1,2],[3,4],[5,6]])\n",
        "b=np.array([[5,6],[7,8],[9,10]])\n",
        "\n",
        "common=np.isin(a,b)\n",
        "print(\"Common elements: \", \"\\n\", a[common])"
      ],
      "execution_count": 65,
      "outputs": [
        {
          "output_type": "stream",
          "text": [
            "Common elements:  \n",
            " [5 6]\n"
          ],
          "name": "stdout"
        }
      ]
    },
    {
      "cell_type": "markdown",
      "metadata": {
        "id": "GbJHK_D4Cl1_",
        "colab_type": "text"
      },
      "source": [
        "6. Create a 2D array of 5 by 5 and find the min and max values from each row and each column"
      ]
    },
    {
      "cell_type": "code",
      "metadata": {
        "id": "WNPimMyECoW1",
        "colab_type": "code",
        "colab": {
          "base_uri": "https://localhost:8080/",
          "height": 170
        },
        "outputId": "0fa1c145-210a-449a-8cf4-8f6cdc0290f8"
      },
      "source": [
        "a=np.random.randint(1,100, (5,5))\n",
        "print(a)\n",
        "print(\"Max value from each row: \", \"\\n\", np.amax(a, axis=1))\n",
        "print(\"Max value from each column: \", \"\\n\", np.amax(a, axis=0))"
      ],
      "execution_count": 69,
      "outputs": [
        {
          "output_type": "stream",
          "text": [
            "[[18 81 77 77 71]\n",
            " [ 1 51 43 57 68]\n",
            " [40 23 20 53 13]\n",
            " [16 17 34 48 28]\n",
            " [49 36 10 41 44]]\n",
            "Max value from each row:  \n",
            " [81 68 53 48 49]\n",
            "Max value from each column:  \n",
            " [49 81 77 77 71]\n"
          ],
          "name": "stdout"
        }
      ]
    },
    {
      "cell_type": "markdown",
      "metadata": {
        "id": "xxYjXhAVDvPM",
        "colab_type": "text"
      },
      "source": [
        "7. Create an array of size 100 and compute the mean, median, standard deviation."
      ]
    },
    {
      "cell_type": "code",
      "metadata": {
        "id": "1vRHREM7Dx76",
        "colab_type": "code",
        "colab": {
          "base_uri": "https://localhost:8080/",
          "height": 153
        },
        "outputId": "5fcb4570-52fc-48d7-c33c-80b57484f0ef"
      },
      "source": [
        "a=np.random.randint(1,100, (100))\n",
        "print(a)\n",
        "\n",
        "print(\"Mean: \", np.mean(a))\n",
        "print(\"Median: \", np.median(a))\n",
        "print(\"Standard Deviation: \", np.std(a))"
      ],
      "execution_count": 73,
      "outputs": [
        {
          "output_type": "stream",
          "text": [
            "[27 72 53 45  7 51  9 70 53 40 15 66 18 60 92 43 90 96 54 25 58 23 77 96\n",
            " 74 30  9 30  5 59 14 78 25 81 24 68 87 35 78 85 52 49 58 21 71 34 82 12\n",
            " 15 19 20  1 43 11 64 74 96 82 72 23 82 89  7 62 42 53 57 46 81 90 70 90\n",
            " 20 20 71 28 40 17 19 93 43 79 53  7 13 24 46 69 79 84 93 64 39 40 23 37\n",
            " 91 47 71 14]\n",
            "Mean:  50.14\n",
            "Median:  51.5\n",
            "Standard Deviation:  27.73193826619409\n"
          ],
          "name": "stdout"
        }
      ]
    },
    {
      "cell_type": "markdown",
      "metadata": {
        "id": "rIayLrN0EUc9",
        "colab_type": "text"
      },
      "source": [
        "8. Normalize a 5x5 random matrix"
      ]
    },
    {
      "cell_type": "code",
      "metadata": {
        "id": "C0QSvNG5EXID",
        "colab_type": "code",
        "colab": {
          "base_uri": "https://localhost:8080/",
          "height": 221
        },
        "outputId": "e9646753-89ab-4f0f-ddbd-5c2591d01358"
      },
      "source": [
        "a=np.random.randint(1,100, (5,5))\n",
        "print(\"Original: \", \"\\n\", a)\n",
        "\n",
        "print(\"normalized: \", \"\\n\", (a-np.mean(a))/np.std(a))"
      ],
      "execution_count": 81,
      "outputs": [
        {
          "output_type": "stream",
          "text": [
            "Original:  \n",
            " [[ 4 79 32 93 42]\n",
            " [91 48 37 69  8]\n",
            " [26 86 25 51  3]\n",
            " [66 49 94 85 34]\n",
            " [90 57 67 84 93]]\n",
            "normalized:  \n",
            " [[-1.79366229  0.76773664 -0.83740669  1.24586444 -0.49588683]\n",
            " [ 1.17756047 -0.29097492 -0.66664676  0.42621678 -1.65705435]\n",
            " [-1.0423186   1.00680054 -1.07647059 -0.18851896 -1.82781427]\n",
            " [ 0.32376082 -0.25682293  1.28001642  0.97264855 -0.76910272]\n",
            " [ 1.14340848  0.01639295  0.35791281  0.93849657  1.24586444]]\n"
          ],
          "name": "stdout"
        }
      ]
    },
    {
      "cell_type": "markdown",
      "metadata": {
        "id": "SONhVD9dFFaf",
        "colab_type": "text"
      },
      "source": [
        "9. Consider an array of dimension (4,4,3), how to mulitply it by an array with dimensions (4,4)?"
      ]
    },
    {
      "cell_type": "code",
      "metadata": {
        "id": "WHYwvV8mFH8H",
        "colab_type": "code",
        "colab": {
          "base_uri": "https://localhost:8080/",
          "height": 340
        },
        "outputId": "eb2d13e2-0c80-4bf2-cda6-ba874269ecc8"
      },
      "source": [
        "a=np.random.randint(1,10, (4,4,3))\n",
        "a2=np.reshape(a,(4,12))\n",
        "\n",
        "\n",
        "b=np.random.randint(1,10, (4,4))\n",
        "\n",
        "\n",
        "print(a*b[:,:,None])"
      ],
      "execution_count": 126,
      "outputs": [
        {
          "output_type": "stream",
          "text": [
            "[[[32 12 12]\n",
            "  [ 6  2 12]\n",
            "  [32 48 40]\n",
            "  [ 8  4  8]]\n",
            "\n",
            " [[24 20 12]\n",
            "  [ 8 24 36]\n",
            "  [81 36 81]\n",
            "  [ 3  6 18]]\n",
            "\n",
            " [[54 12  6]\n",
            "  [30 10 30]\n",
            "  [63  7  7]\n",
            "  [ 6 12 27]]\n",
            "\n",
            " [[45  9 27]\n",
            "  [32 72 56]\n",
            "  [54 27 27]\n",
            "  [56  7 63]]]\n"
          ],
          "name": "stdout"
        }
      ]
    }
  ]
}